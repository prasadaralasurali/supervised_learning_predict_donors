{
 "cells": [
  {
   "cell_type": "markdown",
   "metadata": {},
   "source": [
    "## Finding Donors for *CharityML* (Supervised Learning)\n",
    "##### Raghavendra Prasad Savada"
   ]
  },
  {
   "cell_type": "markdown",
   "metadata": {},
   "source": [
    "### Table of Contents\n",
    "\n",
    "* [Introduction](#intro)\n",
    "* [Exploring the Data](#step0)\n",
    "* [Preparing the Data](#step1)\n",
    "* [Creating a Training and Prediction Pipeline](#step2) \n",
    "* [Initial Model Evaluation](#step3)\n",
    "* [Improving Results](#step4)\n",
    "* [Final Model Evaluation](#step5)\n",
    "* [Feature Importance](#step6)\n",
    "* [Summary](#step7)"
   ]
  },
  {
   "cell_type": "markdown",
   "metadata": {},
   "source": [
    "---\n",
    "<a id='intro'></a>\n",
    "## Introduction\n",
    "\n",
    "In this project, supervised learning techniques are used to identify people most likely to donate to CharityML, a charity organization. To solve this classification problem, I have employed several supervised learning algorithms to model individuals' income using data collected from the 1994 U.S. Census. I have chosen the best candidate algorithm from preliminary results and further optimize this algorithm to best model the data. The goal is to construct a model that accurately predicts whether an individual makes more than $50,000. Understanding an individual's income can help a non-profit organization like CharityML better understand whether or not to reach out to an individual for donation. While it can be difficult to determine an individual's general income bracket directly from public sources, we can infer this value from other publically available features. \n",
    "\n",
    "The dataset for this project originates from the [UCI Machine Learning Repository](https://archive.ics.uci.edu/ml/datasets/Census+Income). The datset was donated by Ron Kohavi and Barry Becker, after being published in the article _\"Scaling Up the Accuracy of Naive-Bayes Classifiers: A Decision-Tree Hybrid\"_ ([link](https://www.aaai.org/Papers/KDD/1996/KDD96-033.pdf)). Some small changes have been made to the original dataset, such as removing the `'fnlwgt'` feature and records with missing or ill-formatted entries."
   ]
  },
  {
   "cell_type": "markdown",
   "metadata": {},
   "source": [
    "---\n",
    "<a id='step0'></a>\n",
    "## Exploring the Data\n",
    "The last column from this dataset, `'income'`, will be the target label (whether an individual makes more than, or at most, $50,000 annually). All other columns are features about each individual in the census database."
   ]
  },
  {
   "cell_type": "code",
   "execution_count": 1,
   "metadata": {},
   "outputs": [
    {
     "data": {
      "text/html": [
       "<div>\n",
       "<style>\n",
       "    .dataframe thead tr:only-child th {\n",
       "        text-align: right;\n",
       "    }\n",
       "\n",
       "    .dataframe thead th {\n",
       "        text-align: left;\n",
       "    }\n",
       "\n",
       "    .dataframe tbody tr th {\n",
       "        vertical-align: top;\n",
       "    }\n",
       "</style>\n",
       "<table border=\"1\" class=\"dataframe\">\n",
       "  <thead>\n",
       "    <tr style=\"text-align: right;\">\n",
       "      <th></th>\n",
       "      <th>age</th>\n",
       "      <th>workclass</th>\n",
       "      <th>education_level</th>\n",
       "      <th>education-num</th>\n",
       "      <th>marital-status</th>\n",
       "      <th>occupation</th>\n",
       "      <th>relationship</th>\n",
       "      <th>race</th>\n",
       "      <th>sex</th>\n",
       "      <th>capital-gain</th>\n",
       "      <th>capital-loss</th>\n",
       "      <th>hours-per-week</th>\n",
       "      <th>native-country</th>\n",
       "      <th>income</th>\n",
       "    </tr>\n",
       "  </thead>\n",
       "  <tbody>\n",
       "    <tr>\n",
       "      <th>0</th>\n",
       "      <td>39</td>\n",
       "      <td>State-gov</td>\n",
       "      <td>Bachelors</td>\n",
       "      <td>13.0</td>\n",
       "      <td>Never-married</td>\n",
       "      <td>Adm-clerical</td>\n",
       "      <td>Not-in-family</td>\n",
       "      <td>White</td>\n",
       "      <td>Male</td>\n",
       "      <td>2174.0</td>\n",
       "      <td>0.0</td>\n",
       "      <td>40.0</td>\n",
       "      <td>United-States</td>\n",
       "      <td>&lt;=50K</td>\n",
       "    </tr>\n",
       "  </tbody>\n",
       "</table>\n",
       "</div>"
      ],
      "text/plain": [
       "   age   workclass education_level  education-num  marital-status  \\\n",
       "0   39   State-gov       Bachelors           13.0   Never-married   \n",
       "\n",
       "      occupation    relationship    race    sex  capital-gain  capital-loss  \\\n",
       "0   Adm-clerical   Not-in-family   White   Male        2174.0           0.0   \n",
       "\n",
       "   hours-per-week  native-country income  \n",
       "0            40.0   United-States  <=50K  "
      ]
     },
     "metadata": {},
     "output_type": "display_data"
    },
    {
     "data": {
      "text/plain": [
       "<=50K    0.752156\n",
       ">50K     0.247844\n",
       "Name: income, dtype: float64"
      ]
     },
     "metadata": {},
     "output_type": "display_data"
    }
   ],
   "source": [
    "# Import libraries \n",
    "import numpy as np\n",
    "import pandas as pd\n",
    "from time import time\n",
    "from IPython.display import display # Allows the use of display() for DataFrames\n",
    "\n",
    "# Import supplementary visualization code visuals.py\n",
    "import visuals as vs\n",
    "\n",
    "# Pretty display for notebooks\n",
    "#%matplotlib inline\n",
    "\n",
    "# Load the Census dataset\n",
    "data = pd.read_csv(\"census.csv\")\n",
    "\n",
    "# Display the first record\n",
    "display(data.head(n=1))\n",
    "\n",
    "# Proportion of people in each category of income variable\n",
    "display(data.income.value_counts(normalize = True))"
   ]
  },
  {
   "cell_type": "markdown",
   "metadata": {},
   "source": [
    "### Dataset features"
   ]
  },
  {
   "cell_type": "code",
   "execution_count": 2,
   "metadata": {},
   "outputs": [
    {
     "name": "stdout",
     "output_type": "stream",
     "text": [
      "Total number of records: 45222\n",
      "Individuals making more than $50,000: 11208\n",
      "Individuals making at most $50,000: 34014\n",
      "Percentage of individuals making more than $50,000: 24.8%\n"
     ]
    }
   ],
   "source": [
    "# Total number of records\n",
    "n_records = data.shape[0]\n",
    "\n",
    "# Number of records where individual's income is more than $50,000\n",
    "n_greater_50k = data[data.income==\">50K\"].shape[0]\n",
    "\n",
    "# Number of records where individual's income is at most $50,000\n",
    "n_at_most_50k = data[data.income==\"<=50K\"].shape[0]\n",
    "\n",
    "# Percentage of individuals whose income is more than $50,000\n",
    "greater_percent = (n_greater_50k/n_records)*100\n",
    "\n",
    "# Print the results\n",
    "print(\"Total number of records: {}\".format(n_records))\n",
    "print(\"Individuals making more than $50,000: {}\".format(n_greater_50k))\n",
    "print(\"Individuals making at most $50,000: {}\".format(n_at_most_50k))\n",
    "print(\"Percentage of individuals making more than $50,000: {:.1f}%\".format(greater_percent))"
   ]
  },
  {
   "cell_type": "markdown",
   "metadata": {},
   "source": [
    "** Featureset Exploration **\n",
    "\n",
    "* **age**: continuous. \n",
    "* **workclass**: Private, Self-emp-not-inc, Self-emp-inc, Federal-gov, Local-gov, State-gov, Without-pay, Never-worked. \n",
    "* **education**: Bachelors, Some-college, 11th, HS-grad, Prof-school, Assoc-acdm, Assoc-voc, 9th, 7th-8th, 12th, Masters, 1st-4th, 10th, Doctorate, 5th-6th, Preschool. \n",
    "* **education-num**: continuous. \n",
    "* **marital-status**: Married-civ-spouse, Divorced, Never-married, Separated, Widowed, Married-spouse-absent, Married-AF-spouse. \n",
    "* **occupation**: Tech-support, Craft-repair, Other-service, Sales, Exec-managerial, Prof-specialty, Handlers-cleaners, Machine-op-inspct, Adm-clerical, Farming-fishing, Transport-moving, Priv-house-serv, Protective-serv, Armed-Forces. \n",
    "* **relationship**: Wife, Own-child, Husband, Not-in-family, Other-relative, Unmarried. \n",
    "* **race**: Black, White, Asian-Pac-Islander, Amer-Indian-Eskimo, Other. \n",
    "* **sex**: Female, Male. \n",
    "* **capital-gain**: continuous. \n",
    "* **capital-loss**: continuous. \n",
    "* **hours-per-week**: continuous. \n",
    "* **native-country**: United-States, Cambodia, England, Puerto-Rico, Canada, Germany, Outlying-US(Guam-USVI-etc), India, Japan, Greece, South, China, Cuba, Iran, Honduras, Philippines, Italy, Poland, Jamaica, Vietnam, Mexico, Portugal, Ireland, France, Dominican-Republic, Laos, Ecuador, Taiwan, Haiti, Columbia, Hungary, Guatemala, Nicaragua, Scotland, Thailand, Yugoslavia, El-Salvador, Trinadad&Tobago, Peru, Hong, Holand-Netherlands."
   ]
  },
  {
   "cell_type": "markdown",
   "metadata": {},
   "source": [
    "---\n",
    "<a id='step1'></a>\n",
    "## Preparing the Data\n",
    "Before data can be used as input for machine learning algorithms, it often must be cleaned, formatted, and restructured — this is typically known as **preprocessing**. Fortunately, for this dataset, there are no invalid or missing entries I must deal with, however, there are some qualities about certain features that must be adjusted. This preprocessing can help tremendously with the outcome and predictive power of nearly all learning algorithms."
   ]
  },
  {
   "cell_type": "markdown",
   "metadata": {},
   "source": [
    "### Transforming Skewed Continuous Features\n",
    "A dataset may sometimes contain at least one feature whose values tend to lie near a single number, but will also have a non-trivial number of vastly larger or smaller values than that single number.  Algorithms can be sensitive to such distributions of values and can underperform if the range is not properly normalized. With the census dataset two features fit this description: '`capital-gain'` and `'capital-loss'`. \n",
    "\n",
    "In the code cell below, I have ploted a histogram of these two features to see the range of the values present and how they are distributed."
   ]
  },
  {
   "cell_type": "code",
   "execution_count": 3,
   "metadata": {},
   "outputs": [
    {
     "data": {
      "image/png": "[encoded data removed]",
      "text/plain": [
       "<matplotlib.figure.Figure at 0x7f2abddf1748>"
      ]
     },
     "metadata": {
      "needs_background": "light"
     },
     "output_type": "display_data"
    }
   ],
   "source": [
    "# Split the data into features and target label\n",
    "income_raw = data['income']\n",
    "features_raw = data.drop('income', axis = 1)\n",
    "\n",
    "# Visualize skewed continuous features of original data\n",
    "vs.distribution(data)"
   ]
  },
  {
   "cell_type": "markdown",
   "metadata": {},
   "source": [
    "For highly-skewed feature distributions such as `'capital-gain'` and `'capital-loss'`, it is common practice to apply a <a href=\"https://en.wikipedia.org/wiki/Data_transformation_(statistics)\">logarithmic transformation</a> on the data so that the very large and very small values do not negatively affect the performance of a learning algorithm. Using a logarithmic transformation significantly reduces the range of values caused by outliers. Care must be taken when applying this transformation however: The logarithm of `0` is undefined, so we must translate the values by a small amount above `0` to apply the the logarithm successfully.\n",
    "\n",
    "In the code cell below, I have performed a log-transformation on the data and visualized the results to see the range of values and how they are distributed. "
   ]
  },
  {
   "cell_type": "code",
   "execution_count": 4,
   "metadata": {},
   "outputs": [
    {
     "data": {
      "image/png": "[encoded data removed]",
      "text/plain": [
       "<matplotlib.figure.Figure at 0x7f2abb01aac8>"
      ]
     },
     "metadata": {
      "needs_background": "light"
     },
     "output_type": "display_data"
    }
   ],
   "source": [
    "# Log-transform the skewed features\n",
    "skewed = ['capital-gain', 'capital-loss']\n",
    "features_log_transformed = pd.DataFrame(data = features_raw)\n",
    "features_log_transformed[skewed] = features_raw[skewed].apply(lambda x: np.log(x + 1))\n",
    "\n",
    "# Visualize the new log distributions\n",
    "vs.distribution(features_log_transformed, transformed = True)"
   ]
  },
  {
   "cell_type": "markdown",
   "metadata": {},
   "source": [
    "### Normalizing Numerical Features\n",
    "In addition to performing transformations on features that are highly skewed, it is often good practice to perform some type of scaling on numerical features. Applying a scaling to the data does not change the shape of each feature's distribution (such as `'capital-gain'` or `'capital-loss'` above); however, normalization ensures that each feature is treated equally when applying supervised learners. Once scaling is applied, observing the data in its raw form will no longer have the same original meaning.\n",
    "\n",
    "In the code cell below, I have normalized each numerical feature. I have used [`sklearn.preprocessing.MinMaxScaler`](http://scikit-learn.org/stable/modules/generated/sklearn.preprocessing.MinMaxScaler.html) for this."
   ]
  },
  {
   "cell_type": "code",
   "execution_count": 5,
   "metadata": {},
   "outputs": [
    {
     "data": {
      "text/html": [
       "<div>\n",
       "<style>\n",
       "    .dataframe thead tr:only-child th {\n",
       "        text-align: right;\n",
       "    }\n",
       "\n",
       "    .dataframe thead th {\n",
       "        text-align: left;\n",
       "    }\n",
       "\n",
       "    .dataframe tbody tr th {\n",
       "        vertical-align: top;\n",
       "    }\n",
       "</style>\n",
       "<table border=\"1\" class=\"dataframe\">\n",
       "  <thead>\n",
       "    <tr style=\"text-align: right;\">\n",
       "      <th></th>\n",
       "      <th>age</th>\n",
       "      <th>workclass</th>\n",
       "      <th>education_level</th>\n",
       "      <th>education-num</th>\n",
       "      <th>marital-status</th>\n",
       "      <th>occupation</th>\n",
       "      <th>relationship</th>\n",
       "      <th>race</th>\n",
       "      <th>sex</th>\n",
       "      <th>capital-gain</th>\n",
       "      <th>capital-loss</th>\n",
       "      <th>hours-per-week</th>\n",
       "      <th>native-country</th>\n",
       "    </tr>\n",
       "  </thead>\n",
       "  <tbody>\n",
       "    <tr>\n",
       "      <th>0</th>\n",
       "      <td>0.301370</td>\n",
       "      <td>State-gov</td>\n",
       "      <td>Bachelors</td>\n",
       "      <td>0.800000</td>\n",
       "      <td>Never-married</td>\n",
       "      <td>Adm-clerical</td>\n",
       "      <td>Not-in-family</td>\n",
       "      <td>White</td>\n",
       "      <td>Male</td>\n",
       "      <td>0.667492</td>\n",
       "      <td>0.0</td>\n",
       "      <td>0.397959</td>\n",
       "      <td>United-States</td>\n",
       "    </tr>\n",
       "    <tr>\n",
       "      <th>1</th>\n",
       "      <td>0.452055</td>\n",
       "      <td>Self-emp-not-inc</td>\n",
       "      <td>Bachelors</td>\n",
       "      <td>0.800000</td>\n",
       "      <td>Married-civ-spouse</td>\n",
       "      <td>Exec-managerial</td>\n",
       "      <td>Husband</td>\n",
       "      <td>White</td>\n",
       "      <td>Male</td>\n",
       "      <td>0.000000</td>\n",
       "      <td>0.0</td>\n",
       "      <td>0.122449</td>\n",
       "      <td>United-States</td>\n",
       "    </tr>\n",
       "    <tr>\n",
       "      <th>2</th>\n",
       "      <td>0.287671</td>\n",
       "      <td>Private</td>\n",
       "      <td>HS-grad</td>\n",
       "      <td>0.533333</td>\n",
       "      <td>Divorced</td>\n",
       "      <td>Handlers-cleaners</td>\n",
       "      <td>Not-in-family</td>\n",
       "      <td>White</td>\n",
       "      <td>Male</td>\n",
       "      <td>0.000000</td>\n",
       "      <td>0.0</td>\n",
       "      <td>0.397959</td>\n",
       "      <td>United-States</td>\n",
       "    </tr>\n",
       "    <tr>\n",
       "      <th>3</th>\n",
       "      <td>0.493151</td>\n",
       "      <td>Private</td>\n",
       "      <td>11th</td>\n",
       "      <td>0.400000</td>\n",
       "      <td>Married-civ-spouse</td>\n",
       "      <td>Handlers-cleaners</td>\n",
       "      <td>Husband</td>\n",
       "      <td>Black</td>\n",
       "      <td>Male</td>\n",
       "      <td>0.000000</td>\n",
       "      <td>0.0</td>\n",
       "      <td>0.397959</td>\n",
       "      <td>United-States</td>\n",
       "    </tr>\n",
       "    <tr>\n",
       "      <th>4</th>\n",
       "      <td>0.150685</td>\n",
       "      <td>Private</td>\n",
       "      <td>Bachelors</td>\n",
       "      <td>0.800000</td>\n",
       "      <td>Married-civ-spouse</td>\n",
       "      <td>Prof-specialty</td>\n",
       "      <td>Wife</td>\n",
       "      <td>Black</td>\n",
       "      <td>Female</td>\n",
       "      <td>0.000000</td>\n",
       "      <td>0.0</td>\n",
       "      <td>0.397959</td>\n",
       "      <td>Cuba</td>\n",
       "    </tr>\n",
       "  </tbody>\n",
       "</table>\n",
       "</div>"
      ],
      "text/plain": [
       "        age          workclass education_level  education-num  \\\n",
       "0  0.301370          State-gov       Bachelors       0.800000   \n",
       "1  0.452055   Self-emp-not-inc       Bachelors       0.800000   \n",
       "2  0.287671            Private         HS-grad       0.533333   \n",
       "3  0.493151            Private            11th       0.400000   \n",
       "4  0.150685            Private       Bachelors       0.800000   \n",
       "\n",
       "        marital-status          occupation    relationship    race      sex  \\\n",
       "0        Never-married        Adm-clerical   Not-in-family   White     Male   \n",
       "1   Married-civ-spouse     Exec-managerial         Husband   White     Male   \n",
       "2             Divorced   Handlers-cleaners   Not-in-family   White     Male   \n",
       "3   Married-civ-spouse   Handlers-cleaners         Husband   Black     Male   \n",
       "4   Married-civ-spouse      Prof-specialty            Wife   Black   Female   \n",
       "\n",
       "   capital-gain  capital-loss  hours-per-week  native-country  \n",
       "0      0.667492           0.0        0.397959   United-States  \n",
       "1      0.000000           0.0        0.122449   United-States  \n",
       "2      0.000000           0.0        0.397959   United-States  \n",
       "3      0.000000           0.0        0.397959   United-States  \n",
       "4      0.000000           0.0        0.397959            Cuba  "
      ]
     },
     "metadata": {},
     "output_type": "display_data"
    }
   ],
   "source": [
    "# Import sklearn.preprocessing MinMaxScaler\n",
    "from sklearn.preprocessing import MinMaxScaler\n",
    "\n",
    "# Initialize a scaler, then apply it to the features\n",
    "scaler = MinMaxScaler() # default=(0, 1)\n",
    "numerical = ['age', 'education-num', 'capital-gain', 'capital-loss', 'hours-per-week']\n",
    "\n",
    "features_log_minmax_transform = pd.DataFrame(data = features_log_transformed)\n",
    "features_log_minmax_transform[numerical] = scaler.fit_transform(features_log_transformed[numerical])\n",
    "\n",
    "# Samples of records with scaling applied\n",
    "display(features_log_minmax_transform.head(n = 5))"
   ]
  },
  {
   "cell_type": "markdown",
   "metadata": {},
   "source": [
    "### One-hot encoding\n",
    "There are several features that are non-numeric. Typically, learning algorithms expect input to be numeric, which requires that non-numeric features (called *categorical variables*) be converted. One popular way to convert categorical variables is by using the **one-hot encoding** scheme. One-hot encoding creates a _\"dummy\"_ variable for each possible category of each non-numeric feature. For example, assume `someFeature` has three possible entries: `A`, `B`, or `C`. Then this feature is encoded into `someFeature_A`, `someFeature_B` and `someFeature_C`.\n",
    "\n",
    "|   | someFeature |                    | someFeature_A | someFeature_B | someFeature_C |\n",
    "| :-: | :-: |                            | :-: | :-: | :-: |\n",
    "| 0 |  B  |  | 0 | 1 | 0 |\n",
    "| 1 |  C  | ----> one-hot encode ----> | 0 | 0 | 1 |\n",
    "| 2 |  A  |  | 1 | 0 | 0 |\n",
    "\n",
    "Additionally, as with the non-numeric features, we need to convert the non-numeric target label, `'income'` to numerical values for the learning algorithm to work. Since there are only two possible categories for this label (\"<=50K\" and \">50K\"), we can avoid using one-hot encoding and simply encode these two categories as `0` and `1`, respectively. In code cell below, I have implemented the following:\n",
    " - Used [`pandas.get_dummies()`](http://pandas.pydata.org/pandas-docs/stable/generated/pandas.get_dummies.html?highlight=get_dummies#pandas.get_dummies) to perform one-hot encoding on the `'features_log_minmax_transform'` data.\n",
    " - Converted the target label `'income_raw'` to numerical entries.\n",
    "   - Encoded records with \"<=50K\" to `0` and records with \">50K\" to `1`."
   ]
  },
  {
   "cell_type": "code",
   "execution_count": 6,
   "metadata": {
    "scrolled": true
   },
   "outputs": [
    {
     "name": "stdout",
     "output_type": "stream",
     "text": [
      "103 total features after one-hot encoding.\n",
      "['age', 'education-num', 'capital-gain', 'capital-loss', 'hours-per-week', 'workclass_ Federal-gov', 'workclass_ Local-gov', 'workclass_ Private', 'workclass_ Self-emp-inc', 'workclass_ Self-emp-not-inc', 'workclass_ State-gov', 'workclass_ Without-pay', 'education_level_ 10th', 'education_level_ 11th', 'education_level_ 12th', 'education_level_ 1st-4th', 'education_level_ 5th-6th', 'education_level_ 7th-8th', 'education_level_ 9th', 'education_level_ Assoc-acdm', 'education_level_ Assoc-voc', 'education_level_ Bachelors', 'education_level_ Doctorate', 'education_level_ HS-grad', 'education_level_ Masters', 'education_level_ Preschool', 'education_level_ Prof-school', 'education_level_ Some-college', 'marital-status_ Divorced', 'marital-status_ Married-AF-spouse', 'marital-status_ Married-civ-spouse', 'marital-status_ Married-spouse-absent', 'marital-status_ Never-married', 'marital-status_ Separated', 'marital-status_ Widowed', 'occupation_ Adm-clerical', 'occupation_ Armed-Forces', 'occupation_ Craft-repair', 'occupation_ Exec-managerial', 'occupation_ Farming-fishing', 'occupation_ Handlers-cleaners', 'occupation_ Machine-op-inspct', 'occupation_ Other-service', 'occupation_ Priv-house-serv', 'occupation_ Prof-specialty', 'occupation_ Protective-serv', 'occupation_ Sales', 'occupation_ Tech-support', 'occupation_ Transport-moving', 'relationship_ Husband', 'relationship_ Not-in-family', 'relationship_ Other-relative', 'relationship_ Own-child', 'relationship_ Unmarried', 'relationship_ Wife', 'race_ Amer-Indian-Eskimo', 'race_ Asian-Pac-Islander', 'race_ Black', 'race_ Other', 'race_ White', 'sex_ Female', 'sex_ Male', 'native-country_ Cambodia', 'native-country_ Canada', 'native-country_ China', 'native-country_ Columbia', 'native-country_ Cuba', 'native-country_ Dominican-Republic', 'native-country_ Ecuador', 'native-country_ El-Salvador', 'native-country_ England', 'native-country_ France', 'native-country_ Germany', 'native-country_ Greece', 'native-country_ Guatemala', 'native-country_ Haiti', 'native-country_ Holand-Netherlands', 'native-country_ Honduras', 'native-country_ Hong', 'native-country_ Hungary', 'native-country_ India', 'native-country_ Iran', 'native-country_ Ireland', 'native-country_ Italy', 'native-country_ Jamaica', 'native-country_ Japan', 'native-country_ Laos', 'native-country_ Mexico', 'native-country_ Nicaragua', 'native-country_ Outlying-US(Guam-USVI-etc)', 'native-country_ Peru', 'native-country_ Philippines', 'native-country_ Poland', 'native-country_ Portugal', 'native-country_ Puerto-Rico', 'native-country_ Scotland', 'native-country_ South', 'native-country_ Taiwan', 'native-country_ Thailand', 'native-country_ Trinadad&Tobago', 'native-country_ United-States', 'native-country_ Vietnam', 'native-country_ Yugoslavia']\n"
     ]
    }
   ],
   "source": [
    "# One-hot encode the 'features_log_minmax_transform' data using pandas.get_dummies()\n",
    "features_final = pd.get_dummies(features_log_minmax_transform)\n",
    "\n",
    "# Encode the 'income_raw' data to numerical values\n",
    "income = income_raw.apply(lambda x: 0 if x == \"<=50K\" else 1)\n",
    "\n",
    "# Print the number of features after one-hot encoding\n",
    "encoded = list(features_final.columns)\n",
    "print(\"{} total features after one-hot encoding.\".format(len(encoded)))\n",
    "\n",
    "# print the encoded feature names\n",
    "print (encoded)"
   ]
  },
  {
   "cell_type": "markdown",
   "metadata": {},
   "source": [
    "### Shuffle and Split Data\n",
    "Now all _categorical variables_ have been converted into numerical features, and all _numerical features_ have been normalized. As always, I will split the data (both features and their labels) into training and test sets. 80% of the data will be used for training and 20% for testing.\n",
    "\n",
    "In the code cell below I have performed this split."
   ]
  },
  {
   "cell_type": "code",
   "execution_count": 7,
   "metadata": {},
   "outputs": [
    {
     "name": "stdout",
     "output_type": "stream",
     "text": [
      "Training set has 36177 samples.\n",
      "Testing set has 9045 samples.\n"
     ]
    }
   ],
   "source": [
    "# Import train_test_split\n",
    "from sklearn.model_selection import train_test_split\n",
    "\n",
    "# Split the 'features' and 'income' data into training and testing sets\n",
    "X_train, X_test, y_train, y_test = train_test_split(features_final, \n",
    "                                                    income, \n",
    "                                                    test_size = 0.2, \n",
    "                                                    random_state = 0)\n",
    "\n",
    "# Show the results of the split\n",
    "print(\"Training set has {} samples.\".format(X_train.shape[0]))\n",
    "print(\"Testing set has {} samples.\".format(X_test.shape[0]))"
   ]
  },
  {
   "cell_type": "markdown",
   "metadata": {},
   "source": [
    "----\n",
    "## Evaluating Model Performance\n",
    "In this section, I will investigate different supervised learning algorithms, and determine which is best at modeling the data. I will also investigate an algorithm known as a *naive predictor* (see below)."
   ]
  },
  {
   "cell_type": "markdown",
   "metadata": {},
   "source": [
    "### Metrics and the Naive Predictor\n",
    "*CharityML*, equipped with their research, knows individuals that make more than \\$50,000 are most likely to donate to their charity. Because of this, *CharityML* is particularly interested in predicting who makes more than \\$50,000 accurately. It would seem that using **accuracy** as a metric for evaluating a particular model's performace would be appropriate. Additionally, identifying someone that *does not* make more than \\$50,000 as someone who does would be detrimental to *CharityML*, since they are looking to find individuals willing to donate. Therefore, a model's ability to precisely predict those that make more than \\$50,000 is *more important* than the model's ability to **recall** those individuals. So I will also use **F-beta score** as a metric that considers both precision and recall:\n",
    "\n",
    "$$ F_{\\beta} = (1 + \\beta^2) \\cdot \\frac{precision \\cdot recall}{\\left( \\beta^2 \\cdot precision \\right) + recall} $$\n",
    "\n",
    "In particular, when $\\beta = 0.5$, more emphasis is placed on precision. This is called the **F$_{0.5}$ score** (or F-score for simplicity).\n",
    "\n",
    "Looking at the distribution of classes (those who make at most \\$50,000, and those who make more), it's clear most individuals do not make more than \\$50,000. This can greatly affect **accuracy**, since we could simply say *\"this person does not make more than \\$50,000\"* and generally be right, without ever looking at the data! Making such a statement would be called **naive**, since we have not considered any information to substantiate the claim. It is always important to consider the *naive prediction* for our data, to help establish a benchmark for whether a model is performing well. That being said, using that prediction would be pointless: if we predicted all people made less than \\$50,000, *CharityML* would identify no one as donors. \n",
    "\n",
    "\n",
    "#### description of accuracy, precision, recall and F1 score \n",
    "\n",
    "** Accuracy ** measures how often the classifier makes the correct prediction. It’s the ratio of the number of correct predictions to the total number of predictions (the number of test data points).\n",
    "\n",
    "** Precision ** is a ratio of true positives to all positives. In other words it is the ratio of\n",
    "\n",
    "`[True Positives/(True Positives + False Positives)]` <Br>\n",
    "If you take the example of email spam, it tells us what proportion of messages we classified as spam, actually were spam.\n",
    "\n",
    "** Recall (sensitivity)** is a ratio of true positives to all actual positives, in other words it is the ratio of\n",
    "\n",
    "`[True Positives/(True Positives + False Negatives)]` <Br>\n",
    "If you take the example of email spam, it tells us what proportion of messages that actually were spam were classified by us as spam.\n",
    "\n",
    "**F1 Score:**\n",
    "For classification problems that are skewed in their classification distributions (e.g., in 100 text messages, only 2 were spam and the rest 98 weren't), accuracy by itself is not a very good metric. We could classify 90 messages as not spam (including the 2 that were spam but we classify them as not spam, hence they would be false negatives) and 10 as spam (all 10 false positives) and still get a reasonably good accuracy score. For such cases, precision and recall come in very handy. These two metrics can be combined to get the F1 score, which is weighted average (harmonic mean) of the precision and recall scores. This score can range from 0 to 1, with 1 being the best possible F1 score (we take the harmonic mean as we are dealing with ratios)."
   ]
  },
  {
   "cell_type": "markdown",
   "metadata": {},
   "source": [
    "Please note that the the purpose of generating a naive predictor is simply to show what a base model without any intelligence would look like. In the real world, ideally the base model would be either the results of a previous model or could be based on a research paper upon which we are looking to improve. When there is no benchmark model set, getting a result better than random choice is a place one could start from."
   ]
  },
  {
   "cell_type": "markdown",
   "metadata": {},
   "source": [
    "### Performance of the naive predictor"
   ]
  },
  {
   "cell_type": "code",
   "execution_count": 8,
   "metadata": {},
   "outputs": [
    {
     "name": "stdout",
     "output_type": "stream",
     "text": [
      "Naive Predictor: [Accuracy score: 0.2478, F-score: 0.2917]\n"
     ]
    }
   ],
   "source": [
    "TP = np.sum(income) # Counting the ones as this is the naive case. Note that 'income' is the 'income_raw' data \n",
    "#encoded to numerical values done in the data preprocessing step.\n",
    "FP = income.count() - TP # Specific to the naive case\n",
    "\n",
    "TN = 0 # No predicted negatives in the naive case\n",
    "FN = 0 # No predicted negatives in the naive case\n",
    "# Calculate accuracy, precision and recall\n",
    "accuracy = TP/(TP+FP)\n",
    "recall = TP/(TP+FN)\n",
    "precision = accuracy\n",
    "\n",
    "# Calculate F-score using the formula above for beta = 0.5 and correct values for precision and recall.\n",
    "beta_sq = 0.5**2\n",
    "fscore = ((1+beta_sq)*precision*recall)/((beta_sq*precision)+recall)\n",
    "\n",
    "# Print the results \n",
    "print(\"Naive Predictor: [Accuracy score: {:.4f}, F-score: {:.4f}]\".format(accuracy, fscore))"
   ]
  },
  {
   "cell_type": "markdown",
   "metadata": {},
   "source": [
    "If we chose a model that always predicted an individual made more than $50,000, the model's accuracy would be 0.2478 and F-score (beta = 0.5) would be 0.2917."
   ]
  },
  {
   "cell_type": "code",
   "execution_count": 9,
   "metadata": {},
   "outputs": [
    {
     "data": {
      "text/plain": [
       "True"
      ]
     },
     "execution_count": 9,
     "metadata": {},
     "output_type": "execute_result"
    }
   ],
   "source": [
    "#cross-verify if manually calculated fscore is correct with sklearn fscore\n",
    "from sklearn.metrics import fbeta_score, accuracy_score\n",
    "y_true = np.array(income)\n",
    "y_predict = np.repeat(1, len(income))\n",
    "fscore == fbeta_score(y_true, y_predict, beta = 0.5)"
   ]
  },
  {
   "cell_type": "markdown",
   "metadata": {},
   "source": [
    "###  Supervised Learning Models\n",
    "**The following are some of the supervised learning models that are currently available in** [`scikit-learn`](http://scikit-learn.org/stable/supervised_learning.html) \n",
    "- Gaussian Naive Bayes (GaussianNB)\n",
    "- Decision Trees\n",
    "- Ensemble Methods (Bagging, AdaBoost, Random Forest, Gradient Boosting)\n",
    "- K-Nearest Neighbors (KNeighbors)\n",
    "- Stochastic Gradient Descent Classifier (SGDC)\n",
    "- Support Vector Machines (SVM)\n",
    "- Logistic Regression"
   ]
  },
  {
   "cell_type": "markdown",
   "metadata": {},
   "source": [
    "**Which of the learning models is appropriate to model census data to predict if an individual makes more than $50,000 or not?** A straight forward approach to answer this question is to try many different machine learning algorithms. Although we can try various combination of hyper parameters for each algorithm, considering the size of the dataset, it would take too long. However, we can try all the above mentioned algorithms with default parameters and see which one produce highest accuracy and fbeta score, which is doable. In fact, I ran all the algorithms (see model_selection.ipynb), which took ~300 seconds and found out that GradientBoostingClassifier yielded the highest accuracy score (0.863018) and fbeta score (0.739534). The lowest accuracy score (0.597678) and fbeta score (0.420899) was for GaussianNB().\n",
    "\n",
    "Among these algorithms, I have chosen three for further optimization based on the following criterion.\n",
    "\n",
    "One of the criterrion used to choose algorithm is number of samples and number of features in the dataset. In this dataset, the number of samples (45,222) is much larger than the number of features (13 features giving raise to 103 dummy variables, which is neither too many nor too few). Some of the other question we need to answer in choosing an algorithm are ([Reference 1](https://recast.ai/blog/machine-learning-algorithms/), [Reference 2](https://stackoverflow.com/questions/2595176/which-machine-learning-classifier-to-choose-in-general));\n",
    "\n",
    "- What is the data storage capacity? \n",
    "\n",
    "2. Does the prediction have to be fast? If yes, algorithm like SVM works best.\n",
    "    \n",
    "    Since this algorithm is not going to be used in any real time application, this issue should not be a problem.\n",
    "    <Br>\n",
    "3. Does the learning have to be fast or involve frequent updating? If yes, simple algorithms like NaiveBayes works well. \n",
    "    \n",
    "    CharityML may want to update the model as it gathers more data, but I don't think it would be a frequent updating.\n",
    "    <Br>\n",
    "    \n",
    "4. Should the model be simple and highly interpretable? If yes, NaiveBayes or Decision tree works best.\n",
    "    \n",
    "    I think, charityML is more interested in accuracy rather than interpretability.\n",
    "    <Br>\n",
    "    \n",
    "Since we do not have any constraints with respect to the above four issues, the size of the dataset is the main guiding factor in choosing the algorithm. So I used sklearn documentation ([Reference 3](http://scikit-learn.org/stable/tutorial/machine_learning_map/index.html)) to choose 3 algorithms. This document recommends to use SVM, KNeighbors, or Ensemble methods, when the number of samples in a dataset is less than 100,000 samples. Among the four ensmeble methods listed above, I used Gradient Boosting since that performed better compared to other algorithms.\n",
    "\n",
    "### Description of chosen models \n",
    "\n",
    "### Support Vecotr Machine \n",
    "([Reference 1](https://recast.ai/blog/machine-learning-algorithms/), [Reference 4](https://data-flair.training/blogs/applications-of-svm/))\n",
    "\n",
    "**An example of real life application**: in Bioinformatics, SVM can be effectively used in classification of genes\n",
    "\n",
    "**Strengths**\n",
    "\n",
    "- Not prone to overfitting\n",
    "- Fast prediction\n",
    "- Suitable for high dimensional data\n",
    "- Less memory intensive for storage\n",
    "\n",
    "**Weaknesses**\n",
    "\n",
    "- Trainng is time consuming\n",
    "- Low interpretability\n",
    "\n",
    "### KNeighbours \n",
    "([Reference 5](http://www.cs.upc.edu/~bejar/apren/docum/trans/03d-algind-knn-eng.pdf), [Reference 6](https://www.quora.com/Do-people-in-the-industry-actually-use-the-K-Nearest-Neighbor-algorithm-in-practice))\n",
    "\n",
    "**An example of real life application**:\n",
    "\n",
    "Although, Convolutional Neural Network is popular choice for image classification, KNN is also used for this purpose. This algorithm is specially useful when different colors mean clearly different objects (e.g., blue is almost always water). So one useful application of this algorithm would be in classifying terrain from satellite images.\n",
    "\n",
    "**Strengths**\n",
    "\n",
    "- Since it is a lazy algorithm, the cost of the learning process is zero\n",
    "- Do not have to satisfy any assumption about concepts to learn\n",
    "\n",
    "**Weaknesses**\n",
    "\n",
    "- Model is not interpretable\n",
    "- Computationally expensive to find the k nearest neighbours when the dataset is very large\n",
    "- Not suitable for very high dimensional data\n",
    "\n",
    "\n",
    "### Boosting \n",
    "([Reference 1](https://recast.ai/blog/machine-learning-algorithms/), [Reference 7](https://ieeexplore.ieee.org/document/7838286/), [Reference 8](https://www.quora.com/What-type-of-problem-is-best-suited-to-using-gradient-boosted-machines))\n",
    "\n",
    "**An example of real life application**: Freight Vehicle Travel Time Prediction.\n",
    "\n",
    "**Strengths**\n",
    "\n",
    "- Quite robust to overfitting \n",
    "- Performs well when there is a large amount of data\n",
    "\n",
    "**Weaknesses**\n",
    "\n",
    "- Training may be time consuming \n",
    "- Memory intensive depending on the number of weak-predictors required"
   ]
  },
  {
   "cell_type": "markdown",
   "metadata": {},
   "source": [
    "---\n",
    "<a id='step2'></a>\n",
    "## Creating a Training and Prediction Pipeline\n",
    "To properly evaluate the performance of each chosen model, it's important to create a training and predicting pipeline that allows to quickly and effectively train models using various sizes of training data and perform predictions on the testing data. \n",
    "In the code block below, I have implemented the following:\n",
    " - Imported `fbeta_score` and `accuracy_score` from [`sklearn.metrics`](http://scikit-learn.org/stable/modules/classes.html#sklearn-metrics-metrics).\n",
    " - Fit the learner to the sampled training data and recorded the training time.\n",
    " - Performed predictions on the test data `X_test`, and also on the first 300 training points `X_train[:300]`. Recorded the total prediction time.\n",
    " - Calculated the accuracy score for both the training subset and testing set.\n",
    " - Calculated the F-score for both the training subset and testing set."
   ]
  },
  {
   "cell_type": "code",
   "execution_count": 10,
   "metadata": {},
   "outputs": [],
   "source": [
    "# Import two metrics from sklearn - fbeta_score and accuracy_score\n",
    "from sklearn.metrics import fbeta_score, accuracy_score\n",
    "\n",
    "def train_predict(learner, sample_size, X_train, y_train, X_test, y_test): \n",
    "    '''\n",
    "    inputs:\n",
    "       - learner: the learning algorithm to be trained and predicted on\n",
    "       - sample_size: the size of samples (number) to be drawn from training set\n",
    "       - X_train: features training set\n",
    "       - y_train: income training set\n",
    "       - X_test: features testing set\n",
    "       - y_test: income testing set\n",
    "    '''\n",
    "    \n",
    "    results = {}\n",
    "    \n",
    "    # Fit the learner to the training data \n",
    "    start = time() # Get start time\n",
    "    learner = learner.fit(X_train[:sample_size], y_train[:sample_size])\n",
    "    end = time() # Get end time\n",
    "    \n",
    "    # Calculate the training time\n",
    "    results['train_time'] = end-start\n",
    "        \n",
    "    # Get the predictions on the test set(X_test),\n",
    "    # then get predictions on the first 300 training samples(X_train) using .predict()\n",
    "    start = time() # Get start time\n",
    "    predictions_test = learner.predict(X_test)\n",
    "    predictions_train = learner.predict(X_train[:sample_size])\n",
    "    end = time() # Get end time\n",
    "    \n",
    "    # Calculate the total prediction time\n",
    "    results['pred_time'] = start-end\n",
    "            \n",
    "    # Compute accuracy on the first 300 training samples \n",
    "    results['acc_train'] = accuracy_score(y_train[:sample_size], predictions_train)\n",
    "        \n",
    "    # Compute accuracy on test set using accuracy_score()\n",
    "    results['acc_test'] = accuracy_score(y_test, predictions_test)\n",
    "    \n",
    "    # Compute F-score on the the first 300 training samples using fbeta_score()\n",
    "    results['f_train'] = fbeta_score(y_train[:sample_size], predictions_train, beta = 0.5)\n",
    "        \n",
    "    # Compute F-score on the test set\n",
    "    results['f_test'] = fbeta_score(y_test, predictions_test, beta = 0.5)\n",
    "       \n",
    "    \n",
    "    print(\"{} trained on {} samples.\".format(learner.__class__.__name__, sample_size))\n",
    "        \n",
    "    # Return the results\n",
    "    return results"
   ]
  },
  {
   "cell_type": "markdown",
   "metadata": {},
   "source": [
    "---\n",
    "<a id='step3'></a>\n",
    "## Initial Model Evaluation\n",
    "In the code cell below, I have implemented the the following:\n",
    "- Imported the three supervised learning models I've discussed in the previous section.\n",
    "- Initialized the three models and stored them in `'clf_A'`, `'clf_B'`, and `'clf_C'`.\n",
    "   - **Note:** Used the default settings for each model — I will tune one specific model in a later section.\n",
    "- Calculated the number of records equal to 1%, 10%, and 100% of the training data.\n",
    "  - Stored those values in `'samples_1'`, `'samples_10'`, and `'samples_100'` respectively."
   ]
  },
  {
   "cell_type": "code",
   "execution_count": 11,
   "metadata": {},
   "outputs": [
    {
     "name": "stderr",
     "output_type": "stream",
     "text": [
      "/opt/conda/lib/python3.6/site-packages/sklearn/metrics/classification.py:1135: UndefinedMetricWarning: F-score is ill-defined and being set to 0.0 due to no predicted samples.\n",
      "  'precision', 'predicted', average, warn_for)\n"
     ]
    },
    {
     "name": "stdout",
     "output_type": "stream",
     "text": [
      "SVC trained on 361 samples.\n",
      "SVC trained on 3617 samples.\n",
      "SVC trained on 36177 samples.\n",
      "KNeighborsClassifier trained on 361 samples.\n",
      "KNeighborsClassifier trained on 3617 samples.\n",
      "KNeighborsClassifier trained on 36177 samples.\n",
      "GradientBoostingClassifier trained on 361 samples.\n",
      "GradientBoostingClassifier trained on 3617 samples.\n",
      "GradientBoostingClassifier trained on 36177 samples.\n"
     ]
    },
    {
     "data": {
      "image/png": "[encoded data removed]",
      "text/plain": [
       "<matplotlib.figure.Figure at 0x7f2abac43320>"
      ]
     },
     "metadata": {
      "needs_background": "light"
     },
     "output_type": "display_data"
    }
   ],
   "source": [
    "# Import the three supervised learning models from sklearn\n",
    "from sklearn.svm import SVC\n",
    "from sklearn.neighbors import KNeighborsClassifier\n",
    "from sklearn.ensemble import GradientBoostingClassifier\n",
    "\n",
    "# Initialize the three models\n",
    "clf_A = SVC(random_state=42)\n",
    "clf_B = KNeighborsClassifier()\n",
    "clf_C = GradientBoostingClassifier(random_state=42)\n",
    "\n",
    "# Calculate the number of samples for 1%, 10%, and 100% of the training data\n",
    "\n",
    "samples_100 = len(y_train)\n",
    "samples_10 = int(samples_100*0.1)\n",
    "samples_1 = int(samples_100*0.01)\n",
    "\n",
    "# Collect results on the learners\n",
    "results = {}\n",
    "for clf in [clf_A, clf_B, clf_C]:\n",
    "    clf_name = clf.__class__.__name__\n",
    "    results[clf_name] = {}\n",
    "    for i, samples in enumerate([samples_1, samples_10, samples_100]):\n",
    "        results[clf_name][i] = \\\n",
    "        train_predict(clf, samples, X_train, y_train, X_test, y_test)\n",
    "\n",
    "# Run metrics visualization for the three supervised learning models chosen\n",
    "vs.evaluate(results, accuracy, fscore)"
   ]
  },
  {
   "cell_type": "markdown",
   "metadata": {},
   "source": [
    "### Results of Inital Model Evaluation"
   ]
  },
  {
   "cell_type": "code",
   "execution_count": 12,
   "metadata": {},
   "outputs": [
    {
     "data": {
      "text/html": [
       "<div>\n",
       "<style>\n",
       "    .dataframe thead tr:only-child th {\n",
       "        text-align: right;\n",
       "    }\n",
       "\n",
       "    .dataframe thead th {\n",
       "        text-align: left;\n",
       "    }\n",
       "\n",
       "    .dataframe tbody tr th {\n",
       "        vertical-align: top;\n",
       "    }\n",
       "</style>\n",
       "<table border=\"1\" class=\"dataframe\">\n",
       "  <thead>\n",
       "    <tr style=\"text-align: right;\">\n",
       "      <th></th>\n",
       "      <th>clf</th>\n",
       "      <th>f_beta</th>\n",
       "      <th>predictionTime</th>\n",
       "      <th>sample</th>\n",
       "      <th>trainingTime</th>\n",
       "    </tr>\n",
       "  </thead>\n",
       "  <tbody>\n",
       "    <tr>\n",
       "      <th>0</th>\n",
       "      <td>SVC</td>\n",
       "      <td>0.000000</td>\n",
       "      <td>-0.664277</td>\n",
       "      <td>0</td>\n",
       "      <td>0.015824</td>\n",
       "    </tr>\n",
       "    <tr>\n",
       "      <th>1</th>\n",
       "      <td>SVC</td>\n",
       "      <td>0.671256</td>\n",
       "      <td>-3.804352</td>\n",
       "      <td>1</td>\n",
       "      <td>1.305464</td>\n",
       "    </tr>\n",
       "    <tr>\n",
       "      <th>2</th>\n",
       "      <td>SVC</td>\n",
       "      <td>0.674477</td>\n",
       "      <td>-128.111352</td>\n",
       "      <td>2</td>\n",
       "      <td>164.257658</td>\n",
       "    </tr>\n",
       "    <tr>\n",
       "      <th>3</th>\n",
       "      <td>KNeighborsClassifier</td>\n",
       "      <td>0.600045</td>\n",
       "      <td>-0.652834</td>\n",
       "      <td>0</td>\n",
       "      <td>0.001975</td>\n",
       "    </tr>\n",
       "    <tr>\n",
       "      <th>4</th>\n",
       "      <td>KNeighborsClassifier</td>\n",
       "      <td>0.630839</td>\n",
       "      <td>-6.579928</td>\n",
       "      <td>1</td>\n",
       "      <td>0.015655</td>\n",
       "    </tr>\n",
       "    <tr>\n",
       "      <th>5</th>\n",
       "      <td>KNeighborsClassifier</td>\n",
       "      <td>0.639164</td>\n",
       "      <td>-219.536267</td>\n",
       "      <td>2</td>\n",
       "      <td>1.534832</td>\n",
       "    </tr>\n",
       "    <tr>\n",
       "      <th>6</th>\n",
       "      <td>GradientBoostingClassifier</td>\n",
       "      <td>0.659907</td>\n",
       "      <td>-0.031990</td>\n",
       "      <td>0</td>\n",
       "      <td>0.096767</td>\n",
       "    </tr>\n",
       "    <tr>\n",
       "      <th>7</th>\n",
       "      <td>GradientBoostingClassifier</td>\n",
       "      <td>0.721604</td>\n",
       "      <td>-0.037023</td>\n",
       "      <td>1</td>\n",
       "      <td>0.893525</td>\n",
       "    </tr>\n",
       "    <tr>\n",
       "      <th>8</th>\n",
       "      <td>GradientBoostingClassifier</td>\n",
       "      <td>0.739534</td>\n",
       "      <td>-0.190883</td>\n",
       "      <td>2</td>\n",
       "      <td>12.820148</td>\n",
       "    </tr>\n",
       "  </tbody>\n",
       "</table>\n",
       "</div>"
      ],
      "text/plain": [
       "                          clf    f_beta  predictionTime  sample  trainingTime\n",
       "0                         SVC  0.000000       -0.664277       0      0.015824\n",
       "1                         SVC  0.671256       -3.804352       1      1.305464\n",
       "2                         SVC  0.674477     -128.111352       2    164.257658\n",
       "3        KNeighborsClassifier  0.600045       -0.652834       0      0.001975\n",
       "4        KNeighborsClassifier  0.630839       -6.579928       1      0.015655\n",
       "5        KNeighborsClassifier  0.639164     -219.536267       2      1.534832\n",
       "6  GradientBoostingClassifier  0.659907       -0.031990       0      0.096767\n",
       "7  GradientBoostingClassifier  0.721604       -0.037023       1      0.893525\n",
       "8  GradientBoostingClassifier  0.739534       -0.190883       2     12.820148"
      ]
     },
     "execution_count": 12,
     "metadata": {},
     "output_type": "execute_result"
    }
   ],
   "source": [
    "#Check results\n",
    "clf = []\n",
    "sample_size =[]\n",
    "fbeta_test = []\n",
    "training_time = []\n",
    "prediction_time = []\n",
    "\n",
    "for i in results:\n",
    "    for j in (results[i]):\n",
    "        #print ((i, j), (results[i][j]['f_test']))\n",
    "        clf.append(i)\n",
    "        sample_size.append(j)\n",
    "        fbeta_test.append(results[i][j]['f_test'])\n",
    "        training_time.append(results[i][j]['train_time'])\n",
    "        prediction_time.append(results[i][j]['pred_time'])\n",
    "        \n",
    "results_df = {'clf': clf, 'sample': sample_size, 'f_beta':fbeta_test, \n",
    "              'trainingTime': training_time,\n",
    "             'predictionTime': prediction_time}\n",
    "pd.DataFrame(results_df)"
   ]
  },
  {
   "cell_type": "code",
   "execution_count": 13,
   "metadata": {},
   "outputs": [
    {
     "data": {
      "text/plain": [
       "{'SVC': {0: {'train_time': 0.0158236026763916,\n",
       "   'pred_time': -0.6642773151397705,\n",
       "   'acc_train': 0.76731301939058172,\n",
       "   'acc_test': 0.75621890547263682,\n",
       "   'f_train': 0.0,\n",
       "   'f_test': 0.0},\n",
       "  1: {'train_time': 1.3054637908935547,\n",
       "   'pred_time': -3.804352045059204,\n",
       "   'acc_train': 0.83273431020182476,\n",
       "   'acc_test': 0.83261470425649531,\n",
       "   'f_train': 0.66250842886041805,\n",
       "   'f_test': 0.67125645438898451},\n",
       "  2: {'train_time': 164.2576584815979,\n",
       "   'pred_time': -128.1113522052765,\n",
       "   'acc_train': 0.8385991099317246,\n",
       "   'acc_test': 0.83714759535655059,\n",
       "   'f_train': 0.68762171206012235,\n",
       "   'f_test': 0.67447717069966051}},\n",
       " 'KNeighborsClassifier': {0: {'train_time': 0.0019750595092773438,\n",
       "   'pred_time': -0.6528341770172119,\n",
       "   'acc_train': 0.86980609418282551,\n",
       "   'acc_test': 0.80740740740740746,\n",
       "   'f_train': 0.74695121951219501,\n",
       "   'f_test': 0.60004524375070689},\n",
       "  1: {'train_time': 0.0156552791595459,\n",
       "   'pred_time': -6.579927682876587,\n",
       "   'acc_train': 0.86839922587779927,\n",
       "   'acc_test': 0.81956882255389718,\n",
       "   'f_train': 0.73932525039536101,\n",
       "   'f_test': 0.63083861269193597},\n",
       "  2: {'train_time': 1.53483247756958,\n",
       "   'pred_time': -219.53626704216003,\n",
       "   'acc_train': 0.8732343754319043,\n",
       "   'acc_test': 0.82354892205638475,\n",
       "   'f_train': 0.75466277204491583,\n",
       "   'f_test': 0.63916413224762081}},\n",
       " 'GradientBoostingClassifier': {0: {'train_time': 0.09676742553710938,\n",
       "   'pred_time': -0.03198957443237305,\n",
       "   'acc_train': 0.94736842105263153,\n",
       "   'acc_test': 0.83139856274184631,\n",
       "   'f_train': 0.94476744186046524,\n",
       "   'f_test': 0.65990673462748073},\n",
       "  1: {'train_time': 0.8935248851776123,\n",
       "   'pred_time': -0.03702282905578613,\n",
       "   'acc_train': 0.87890517003041191,\n",
       "   'acc_test': 0.85594250967385299,\n",
       "   'f_train': 0.7737760270118178,\n",
       "   'f_test': 0.72160405420293039},\n",
       "  2: {'train_time': 12.820148468017578,\n",
       "   'pred_time': -0.19088339805603027,\n",
       "   'acc_train': 0.86574342814495397,\n",
       "   'acc_test': 0.86301824212271971,\n",
       "   'f_train': 0.75304705023916985,\n",
       "   'f_test': 0.7395338561802719}}}"
      ]
     },
     "execution_count": 13,
     "metadata": {},
     "output_type": "execute_result"
    }
   ],
   "source": [
    "results"
   ]
  },
  {
   "cell_type": "markdown",
   "metadata": {},
   "source": [
    "**Note:** SVC did not predict any positive label (1) for first 361 samples (see code cell below). Since true positive is 0, both precision and recall are 0.\n"
   ]
  },
  {
   "cell_type": "code",
   "execution_count": 14,
   "metadata": {},
   "outputs": [
    {
     "data": {
      "text/plain": [
       "0"
      ]
     },
     "execution_count": 14,
     "metadata": {},
     "output_type": "execute_result"
    }
   ],
   "source": [
    "clf_A.fit(X_train[:361], y_train[:361])\n",
    "sum(clf_A.predict(X_train[:361]))"
   ]
  },
  {
   "cell_type": "markdown",
   "metadata": {},
   "source": [
    "---\n",
    "<a id='step4'></a>\n",
    "## Improving Results\n",
    "In this final section, I have chosen the *best* model to use from the three supervised learning models. Then I performed a grid search optimization for the model over the entire training set (`X_train` and `y_train`) by tuning hyperparameters to improve upon the untuned model's F-score. "
   ]
  },
  {
   "cell_type": "markdown",
   "metadata": {},
   "source": [
    "### Best model\n",
    "Among the 3 algorithms studied, GradientBoosting algorithm produced highest Fbeta score (0.7395) on the testing when 100% of the training data is used.\n",
    "\n",
    "Among the 3 models, GradientBoosting has the lowest prediction time (0.52 seconds; see dictionary results_df printed as dataframe in the section ```Results of Inital Model Evaluation``` above), and the second lowest training time (22.2 seconds). The data size is fairly large, and the data is neither too homogenour not too heterogenous, so this algorithm is expected to perform well on this data."
   ]
  },
  {
   "cell_type": "markdown",
   "metadata": {},
   "source": [
    "### Model Tuning\n",
    "To fine tune the chosen model, I have used grid search (`GridSearchCV`). In the code cell below, I have implemented the following:\n",
    "- Import [`sklearn.grid_search.GridSearchCV`](http://scikit-learn.org/0.17/modules/generated/sklearn.grid_search.GridSearchCV.html) and [`sklearn.metrics.make_scorer`](http://scikit-learn.org/stable/modules/generated/sklearn.metrics.make_scorer.html).\n",
    "- Initialized the GradientBoostingClassifier and stored it in `clf`.\n",
    " - Set the `random_state` to ensure reproducibility of the result.\n",
    "- Created a dictionary of parameters to tune.\n",
    "- Used `make_scorer` to create an `fbeta_score` scoring object (with $\\beta = 0.5$).\n",
    "- Performed grid search on the classifier `clf` using the `'scorer'`, and stored it in `grid_obj`.\n",
    "- Fit the grid search object to the training data (`X_train`, `y_train`), and stored it in `grid_fit`."
   ]
  },
  {
   "cell_type": "code",
   "execution_count": 15,
   "metadata": {},
   "outputs": [
    {
     "name": "stdout",
     "output_type": "stream",
     "text": [
      "Unoptimized model\n",
      "------\n",
      "Accuracy score on testing data: 0.8630\n",
      "F-score on testing data: 0.7395\n",
      "\n",
      "Optimized Model\n",
      "------\n",
      "Accuracy score on the testing data: 0.8715\n",
      "F-score on the testing data: 0.7521\n",
      "It took 589.9 seconds to run\n"
     ]
    }
   ],
   "source": [
    "# Import 'GridSearchCV', 'make_scorer'\n",
    "\n",
    "from sklearn.model_selection import GridSearchCV, ShuffleSplit\n",
    "from sklearn.metrics import make_scorer\n",
    "\n",
    "start = time()\n",
    "# Initialize the classifier\n",
    "cv = ShuffleSplit(n_splits=3, test_size=.25, random_state=42)\n",
    "clf = GradientBoostingClassifier(random_state=42)\n",
    "\n",
    "\n",
    "# Create the parameters dictionary.\n",
    "parameters = {'min_samples_split':[500, 1000, 2000],\n",
    "              'max_depth':[5, 10, 15],\n",
    "              'n_estimators':[60],\n",
    "              'learning_rate':[0.2]\n",
    "}\n",
    "\n",
    "# Make an fbeta_score scoring object using make_scorer()\n",
    "scorer = make_scorer(fbeta_score, beta = 0.5)\n",
    "\n",
    "# Perform grid search on the classifier using GridSearchCV() with 'scorer' as the scoring method\n",
    "grid_obj = GridSearchCV(clf, cv = cv, param_grid = parameters, scoring = scorer)\n",
    "\n",
    "# Fit the grid search object to the training data and find the optimal parameters using fit()\n",
    "grid_fit = grid_obj.fit(X_train, y_train)\n",
    "\n",
    "# Get the estimator\n",
    "best_clf = grid_fit.best_estimator_\n",
    "\n",
    "# Make predictions using the unoptimized and optimized model\n",
    "predictions = (clf.fit(X_train, y_train)).predict(X_test)\n",
    "best_predictions = best_clf.predict(X_test)\n",
    "\n",
    "# Report the before-and-afterscores\n",
    "print(\"Unoptimized model\\n------\")\n",
    "print(\"Accuracy score on testing data: {:.4f}\".format(accuracy_score(y_test, predictions)))\n",
    "print(\"F-score on testing data: {:.4f}\".format(fbeta_score(y_test, predictions, beta = 0.5)))\n",
    "print(\"\\nOptimized Model\\n------\")\n",
    "print(\"Accuracy score on the testing data: {:.4f}\".format(accuracy_score(y_test, best_predictions)))\n",
    "print(\"F-score on the testing data: {:.4f}\".format(fbeta_score(y_test, best_predictions, beta = 0.5)))\n",
    "\n",
    "print(\"It took {:.1f} seconds to run\".format(time()-start))"
   ]
  },
  {
   "cell_type": "code",
   "execution_count": 16,
   "metadata": {},
   "outputs": [
    {
     "data": {
      "text/plain": [
       "GradientBoostingClassifier(criterion='friedman_mse', init=None,\n",
       "              learning_rate=0.2, loss='deviance', max_depth=15,\n",
       "              max_features=None, max_leaf_nodes=None,\n",
       "              min_impurity_decrease=0.0, min_impurity_split=None,\n",
       "              min_samples_leaf=1, min_samples_split=2000,\n",
       "              min_weight_fraction_leaf=0.0, n_estimators=60,\n",
       "              presort='auto', random_state=42, subsample=1.0, verbose=0,\n",
       "              warm_start=False)"
      ]
     },
     "execution_count": 16,
     "metadata": {},
     "output_type": "execute_result"
    }
   ],
   "source": [
    "best_clf"
   ]
  },
  {
   "cell_type": "markdown",
   "metadata": {},
   "source": [
    "---\n",
    "<a id='step5'></a>\n",
    "## Final Model Evaluation\n",
    "\n",
    "The following table compares the performance of the optimized model to that of unoptimized model."
   ]
  },
  {
   "cell_type": "markdown",
   "metadata": {},
   "source": [
    "#### Results:\n",
    "\n",
    "|     Metric     | Unoptimized Model | Optimized Model |\n",
    "| :------------: | :---------------: | :-------------: | \n",
    "| Accuracy Score |0.8630             |0.8715           |\n",
    "| F-score        |0.7395             |0.7521           |\n"
   ]
  },
  {
   "cell_type": "markdown",
   "metadata": {},
   "source": [
    "The optimized model has an accuracy score of 0.8715 and Fbeta-score of 0.7521. This score is slightly (~1%) better than that of unoptimized model. However, it is much better than naive predictor's accuracy (0.2478) and Fbeta-score (0.2917)."
   ]
  },
  {
   "cell_type": "markdown",
   "metadata": {},
   "source": [
    "---\n",
    "<a id='step6'></a>\n",
    "## Feature Importance\n",
    "\n",
    "An important task when performing supervised learning on a dataset like the census data we study here is determining which features provide the most predictive power. By focusing on the relationship between only a few crucial features and the target label we simplify our understanding of the phenomenon. So in this case, I wish to identify a small number of features that most strongly predict whether an individual makes at most or more than \\$50,000.\n",
    "\n",
    "Most scikit-learn classifiers has a `feature_importance_` attribute, which is a function that ranks the importance of features according to the chosen classifier.  In the next cell, I used `feature_importance_` attribute of GradientBoostingClassifier to determine the top 5 most important features for the census dataset."
   ]
  },
  {
   "cell_type": "markdown",
   "metadata": {},
   "source": [
    "### Extracting Feature Importance"
   ]
  },
  {
   "cell_type": "code",
   "execution_count": 17,
   "metadata": {},
   "outputs": [
    {
     "data": {
      "image/png": "[encoded data removed]",
      "text/plain": [
       "<matplotlib.figure.Figure at 0x7f2abac2b6a0>"
      ]
     },
     "metadata": {
      "needs_background": "light"
     },
     "output_type": "display_data"
    }
   ],
   "source": [
    "# Use feature_importance_ attribute of GradientBoostingClassifier to determine the top 5 most important features\n",
    "# Train the supervised model on the training set using .fit(X_train, y_train)\n",
    "model = GradientBoostingClassifier(random_state = 42)\n",
    "model.fit(X_train, y_train)\n",
    "\n",
    "# Extract the feature importances using .feature_importances_ \n",
    "importances = model.feature_importances_\n",
    "\n",
    "# Plot\n",
    "vs.feature_plot(importances, X_train, y_train)"
   ]
  },
  {
   "cell_type": "markdown",
   "metadata": {},
   "source": [
    "The following five features were found to be most important ones; capital-gain, capital-loss, marital-status_Married-civ-spouse, age, education-num.\n",
    "\n",
    "The following are the probable reasons for the above five features to be most important ones:\n",
    "\n",
    "If you have a capital gain or capital loss, you must have invested. To invest money, you must have surplus income/savings. To have more savings you must have a high income.\n",
    "As you grow older (age), generally you are more experienced in the job you are doing so that you are making more money.\n",
    "The more education you have (education-num), the more likely that you are doing an high-paying job.\n",
    "If you are married and have a family (marital-status_Married-civ-spouse), you are likely to be more serious about your income and savings so that you can give a stable life to your family."
   ]
  },
  {
   "cell_type": "markdown",
   "metadata": {},
   "source": [
    "### Feature Selection\n",
    "How does a model perform if we only use the five most important features identified above? With less features required to train, the expectation is that training and prediction time is much lower — at the cost of performance metrics. From the visualization above, we see that the top five most important features contribute more than half of the importance of **all** features present in the data. This hints that we can attempt to *reduce the feature space* and simplify the information required for the model to learn. In the code cell below, I have used the same optimized model that I found earlier, and trained it on the same training set *with only the top five important features*. "
   ]
  },
  {
   "cell_type": "code",
   "execution_count": 18,
   "metadata": {},
   "outputs": [
    {
     "name": "stdout",
     "output_type": "stream",
     "text": [
      "It took 2.8 seconds to train the model with reduced data\n",
      "\n",
      "It took 38.8 seconds to train the model with full data\n",
      "\n",
      "Final Model trained on full data\n",
      "------\n",
      "Accuracy on testing data: 0.8715\n",
      "F-score on testing data: 0.7521\n",
      "\n",
      "Final Model trained on reduced data\n",
      "------\n",
      "Accuracy on testing data: 0.8568\n",
      "F-score on testing data: 0.7207\n"
     ]
    }
   ],
   "source": [
    "# Import functionality for cloning a model\n",
    "from sklearn.base import clone\n",
    "\n",
    "# Reduce the feature space\n",
    "X_train_reduced = X_train[X_train.columns.values[(np.argsort(importances)[::-1])[:5]]]\n",
    "X_test_reduced = X_test[X_test.columns.values[(np.argsort(importances)[::-1])[:5]]]\n",
    "start = time()\n",
    "# Train on the \"best\" model found from grid search earlier on data with reduced feature space\n",
    "clf = (clone(best_clf)).fit(X_train_reduced, y_train)\n",
    "\n",
    "print(\"It took {:.1f} seconds to train the model with reduced data\\n\".format(time()-start))\n",
    "# Make new predictions\n",
    "reduced_predictions = clf.predict(X_test_reduced)\n",
    "\n",
    "start = time()\n",
    "# Train on the \"best\" model found from grid search earlier with full data\n",
    "clf_1 = best_clf.fit(X_train, y_train)\n",
    "\n",
    "print(\"It took {:.1f} seconds to train the model with full data\\n\".format(time()-start))\n",
    "\n",
    "# Report scores from the final model using both versions of data\n",
    "print(\"Final Model trained on full data\\n------\")\n",
    "print(\"Accuracy on testing data: {:.4f}\".format(accuracy_score(y_test, best_predictions)))\n",
    "print(\"F-score on testing data: {:.4f}\".format(fbeta_score(y_test, best_predictions, beta = 0.5)))\n",
    "print(\"\\nFinal Model trained on reduced data\\n------\")\n",
    "print(\"Accuracy on testing data: {:.4f}\".format(accuracy_score(y_test, reduced_predictions)))\n",
    "print(\"F-score on testing data: {:.4f}\".format(fbeta_score(y_test, reduced_predictions, beta = 0.5)))"
   ]
  },
  {
   "cell_type": "markdown",
   "metadata": {},
   "source": [
    "When only five features are used, there is a ~1.5% reduction in accuracy score, and ~3% reduction in Fbeta-score. However, there is around 14-fold decrease in training time. Now the question is, should we forego some prediction power for the reduction in training time. It should be noted that although there is 14-fold decrease in training time with reduced data, even with full data, training took only ~39 seconds, which is not really a constraint. However, parameter tuning is also part of training. With the full data set, if I try to include more than 2 hyper-parameters with 3 different values in GridSearch, it took too long to run. I think, with reduced dataset, probably we will be able to include more hyper-parameters to tune leading to better performance of the best model chosen by GridSearch. "
   ]
  },
  {
   "cell_type": "markdown",
   "metadata": {},
   "source": [
    "---\n",
    "<a id='step7'></a>\n",
    "## Summary\n",
    "We have a census data of 45,222 individuals with 13 features like sex, race, education etc. Census data also documents whether these individuals make more than \\$50,000 or not. CharityML knows individuals that make more than \\$50,000 are most likely to donate to their charity. Using this labelled data, if we can build a model that can predict if an individual (not in this dataset) makes more than \\$50,000 given the data on some or all of the 13 features about this individual, it can help charityML to target only those individuals who makes more than $50,000 for donation request.\n",
    "\n",
    "In building the model, first I split the data into training set and test set at a ratio of 80:20. I tried three different supervised learning algorithms that are suited for this kind of data. Training set has been used to train the model. Then test set was used to evaluate how these models perform on unseen data; trained model is used to predict the labels of test datapoints and this prediction is compared against actual labels of the test data points. Among the three models I tried, a model called GradientBoosting performed the best on data not seen by the model yet (test data). This is a type of algorithm that belongs to what is called as ensemble method. In short, in ensemble methods, instead of relying on one model, a set of different models are combined in the hope that, a set of classifiers on average will have a higher performance than a single classifier. It basically boosts many weak predictive models, each of which works little better than random guess, into a strong one in the form of ensemble of weak models. \n",
    "\n",
    "The trained model could predict the labels (whether an individual makes more than \\$50,000 or not) correctly for 87% of the individuals in the test data. This metric is called accuracy score, which takes into account both correctly identified positive (makes >\\$50,000) and negative label (makes <=\\$50,000). This dataset is skewed as far as labels are concerned in that only ~25% people makes >\\$50,000. Due to this imbalance in labels, accuracy score may not be a good metric to evaluate model performance. So we need to consider two other metric - precision and recall. Precision tells us what proportion of individuals we classified as positive (makes >\\$50,000), actually were positive. Recall (sensitivity) tells us what proportion of individuals that were actually positive were classified by us as positive. It is a good idea to give more wightage to precision than recall in our case, because the model's ability to precisely predict positive label is more important than the model's ability to recall those individuals. So I used a metric called F-beta score which takes into account both precision and recall. There is a weight component in this metric that is set to 0.5, which gives more weightage to precision than recall. GradientBoost algorithm also yielded the highest F-beta score (0.7521) among the 3 models I tried. "
   ]
  }
 ],
 "metadata": {
  "kernelspec": {
   "display_name": "Python 3",
   "language": "python",
   "name": "python3"
  },
  "language_info": {
   "codemirror_mode": {
    "name": "ipython",
    "version": 3
   },
   "file_extension": ".py",
   "mimetype": "text/x-python",
   "name": "python",
   "nbconvert_exporter": "python",
   "pygments_lexer": "ipython3",
   "version": "3.6.5"
  }
 },
 "nbformat": 4,
 "nbformat_minor": 1
}
